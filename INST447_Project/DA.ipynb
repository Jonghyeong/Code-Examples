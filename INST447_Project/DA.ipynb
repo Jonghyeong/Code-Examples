{
 "cells": [
  {
   "cell_type": "code",
   "execution_count": 13,
   "metadata": {},
   "outputs": [],
   "source": [
    "import pandas as pd\n",
    "import numpy as np\n",
    "import matplotlib.pyplot as plt"
   ]
  },
  {
   "cell_type": "code",
   "execution_count": 2,
   "metadata": {},
   "outputs": [],
   "source": [
    "FDF = pd.read_csv('FDF.csv')"
   ]
  },
  {
   "cell_type": "code",
   "execution_count": 3,
   "metadata": {},
   "outputs": [
    {
     "name": "stdout",
     "output_type": "stream",
     "text": [
      "United States     10162\n",
      "India              1482\n",
      "United Kingdom     1208\n",
      "Canada              659\n",
      "Japan               377\n",
      "South Korea         278\n",
      "Australia           258\n",
      "France              235\n",
      "Spain               183\n",
      "Hong Kong           170\n",
      "Name: Country, dtype: int64\n"
     ]
    }
   ],
   "source": [
    "#Count the number of contents created by countries\n",
    "content_counts = FDF[\"Country\"].value_counts(sort=True)\n",
    "print(content_counts.head(10))"
   ]
  },
  {
   "cell_type": "code",
   "execution_count": 4,
   "metadata": {},
   "outputs": [],
   "source": [
    "#changing the year column of the dataset so that MSN takes priorety in the year column\n",
    "def MSN_Years(row):\n",
    "    if ' or ' in str(row['Year']):\n",
    "        both = str(row['Year']).split(' or ')\n",
    "        return str(both[0])\n",
    "#making a copy of FDF to perform the operation on\n",
    "FDF_A = FDF\n",
    "#performing the operation on the copy of FDF\n",
    "FDF_A['Year'] = FDF_A.apply(lambda row: MSN_Years(row), axis=1)"
   ]
  },
  {
   "cell_type": "code",
   "execution_count": 6,
   "metadata": {},
   "outputs": [
    {
     "name": "stdout",
     "output_type": "stream",
     "text": [
      "<class 'pandas.core.frame.DataFrame'>\n",
      "RangeIndex: 25652 entries, 0 to 25651\n",
      "Data columns (total 17 columns):\n",
      " #   Column           Non-Null Count  Dtype  \n",
      "---  ------           --------------  -----  \n",
      " 0   Unnamed: 0       25652 non-null  int64  \n",
      " 1   Title            25652 non-null  object \n",
      " 2   date_added       7794 non-null   object \n",
      " 3   description      7804 non-null   object \n",
      " 4   Age              10519 non-null  object \n",
      " 5   IMDb             20623 non-null  float64\n",
      " 6   Rotten Tomatoes  6169 non-null   object \n",
      " 7   Netflix          22355 non-null  float64\n",
      " 8   Hulu             22355 non-null  float64\n",
      " 9   Prime Video      22355 non-null  float64\n",
      " 10  Disney+          22355 non-null  float64\n",
      " 11  Language         16145 non-null  object \n",
      " 12  type             25652 non-null  object \n",
      " 13  Runtime          21072 non-null  object \n",
      " 14  Directors        18576 non-null  object \n",
      " 15  Country          20706 non-null  object \n",
      " 16  Year             1127 non-null   object \n",
      "dtypes: float64(5), int64(1), object(11)\n",
      "memory usage: 3.3+ MB\n"
     ]
    }
   ],
   "source": [
    "FDF_A.info()"
   ]
  },
  {
   "cell_type": "code",
   "execution_count": 8,
   "metadata": {},
   "outputs": [
    {
     "name": "stderr",
     "output_type": "stream",
     "text": [
      "/Users/jonghyeongkim/opt/anaconda3/lib/python3.7/site-packages/ipykernel_launcher.py:3: FutureWarning: Indexing with multiple keys (implicitly converted to a tuple of keys) will be deprecated, use a list instead.\n",
      "  This is separate from the ipykernel package so we can avoid doing imports until\n"
     ]
    },
    {
     "data": {
      "text/html": [
       "<div>\n",
       "<style scoped>\n",
       "    .dataframe tbody tr th:only-of-type {\n",
       "        vertical-align: middle;\n",
       "    }\n",
       "\n",
       "    .dataframe tbody tr th {\n",
       "        vertical-align: top;\n",
       "    }\n",
       "\n",
       "    .dataframe thead th {\n",
       "        text-align: right;\n",
       "    }\n",
       "</style>\n",
       "<table border=\"1\" class=\"dataframe\">\n",
       "  <thead>\n",
       "    <tr style=\"text-align: right;\">\n",
       "      <th></th>\n",
       "      <th>Netflix</th>\n",
       "      <th>Hulu</th>\n",
       "      <th>Prime Video</th>\n",
       "      <th>Disney+</th>\n",
       "    </tr>\n",
       "    <tr>\n",
       "      <th>Year</th>\n",
       "      <th></th>\n",
       "      <th></th>\n",
       "      <th></th>\n",
       "      <th></th>\n",
       "    </tr>\n",
       "  </thead>\n",
       "  <tbody>\n",
       "    <tr>\n",
       "      <th>2015</th>\n",
       "      <td>83.0</td>\n",
       "      <td>7.0</td>\n",
       "      <td>12.0</td>\n",
       "      <td>0.0</td>\n",
       "    </tr>\n",
       "    <tr>\n",
       "      <th>2016</th>\n",
       "      <td>107.0</td>\n",
       "      <td>7.0</td>\n",
       "      <td>25.0</td>\n",
       "      <td>1.0</td>\n",
       "    </tr>\n",
       "    <tr>\n",
       "      <th>2017</th>\n",
       "      <td>141.0</td>\n",
       "      <td>11.0</td>\n",
       "      <td>18.0</td>\n",
       "      <td>0.0</td>\n",
       "    </tr>\n",
       "    <tr>\n",
       "      <th>2018</th>\n",
       "      <td>160.0</td>\n",
       "      <td>14.0</td>\n",
       "      <td>30.0</td>\n",
       "      <td>2.0</td>\n",
       "    </tr>\n",
       "    <tr>\n",
       "      <th>2019</th>\n",
       "      <td>157.0</td>\n",
       "      <td>13.0</td>\n",
       "      <td>18.0</td>\n",
       "      <td>0.0</td>\n",
       "    </tr>\n",
       "  </tbody>\n",
       "</table>\n",
       "</div>"
      ],
      "text/plain": [
       "      Netflix  Hulu  Prime Video  Disney+\n",
       "Year                                     \n",
       "2015     83.0   7.0         12.0      0.0\n",
       "2016    107.0   7.0         25.0      1.0\n",
       "2017    141.0  11.0         18.0      0.0\n",
       "2018    160.0  14.0         30.0      2.0\n",
       "2019    157.0  13.0         18.0      0.0"
      ]
     },
     "execution_count": 8,
     "metadata": {},
     "output_type": "execute_result"
    }
   ],
   "source": [
    "#Group by years in columns of Netflix, Hulu,Prime Video, Disney+ and sum their values\n",
    "years = FDF_A[(FDF_A['Year'] >= '2015')& (FDF_A['Year'] <= '2020')]\n",
    "count1 = years.groupby('Year')['Netflix', 'Hulu','Prime Video', 'Disney+'].sum()\n",
    "count1.head()"
   ]
  },
  {
   "cell_type": "code",
   "execution_count": 9,
   "metadata": {},
   "outputs": [
    {
     "name": "stdout",
     "output_type": "stream",
     "text": [
      "      Netflix  Hulu  Prime Video  Disney+  Total\n",
      "Year                                            \n",
      "2015     83.0   7.0         12.0      0.0  102.0\n",
      "2016    107.0   7.0         25.0      1.0  139.0\n",
      "2017    141.0  11.0         18.0      0.0  170.0\n",
      "2018    160.0  14.0         30.0      2.0  204.0\n",
      "2019    157.0  13.0         18.0      0.0  188.0\n",
      "2020    136.0   6.0         15.0      0.0  157.0\n"
     ]
    }
   ],
   "source": [
    "#Adding Total column from groupby previously\n",
    "total = count1.columns[ : count1.shape[1]-1]\n",
    "count1[\"Total\"] = count1[total].sum(axis=1)\n",
    "print(count1)"
   ]
  },
  {
   "cell_type": "code",
   "execution_count": 10,
   "metadata": {},
   "outputs": [
    {
     "name": "stdout",
     "output_type": "stream",
     "text": [
      "Year\n",
      "2015    102.0\n",
      "2016    139.0\n",
      "2017    170.0\n",
      "2018    204.0\n",
      "2019    188.0\n",
      "2020    157.0\n",
      "Name: Total, dtype: float64\n"
     ]
    }
   ],
   "source": [
    "#Get the Total vs Year\n",
    "total = count1[\"Total\"]\n",
    "print(total)"
   ]
  },
  {
   "cell_type": "code",
   "execution_count": 11,
   "metadata": {},
   "outputs": [
    {
     "data": {
      "text/plain": [
       "<matplotlib.axes._subplots.AxesSubplot at 0x7fe790737110>"
      ]
     },
     "execution_count": 11,
     "metadata": {},
     "output_type": "execute_result"
    },
    {
     "data": {
      "image/png": "[encoded data removed]",
      "text/plain": [
       "<Figure size 432x288 with 1 Axes>"
      ]
     },
     "metadata": {
      "needs_background": "light"
     },
     "output_type": "display_data"
    }
   ],
   "source": [
    "#Plot the line for Total vs Year(2015-2020)\n",
    "total.plot(kind='line')"
   ]
  },
  {
   "cell_type": "markdown",
   "metadata": {},
   "source": [
    "### What is the relationship between Years and Runtime?"
   ]
  },
  {
   "cell_type": "code",
   "execution_count": 12,
   "metadata": {},
   "outputs": [
    {
     "data": {
      "text/html": [
       "<div>\n",
       "<style scoped>\n",
       "    .dataframe tbody tr th:only-of-type {\n",
       "        vertical-align: middle;\n",
       "    }\n",
       "\n",
       "    .dataframe tbody tr th {\n",
       "        vertical-align: top;\n",
       "    }\n",
       "\n",
       "    .dataframe thead th {\n",
       "        text-align: right;\n",
       "    }\n",
       "</style>\n",
       "<table border=\"1\" class=\"dataframe\">\n",
       "  <thead>\n",
       "    <tr style=\"text-align: right;\">\n",
       "      <th></th>\n",
       "      <th>Year</th>\n",
       "      <th>Runtime</th>\n",
       "    </tr>\n",
       "  </thead>\n",
       "  <tbody>\n",
       "    <tr>\n",
       "      <th>0</th>\n",
       "      <td>2020 or 2016</td>\n",
       "      <td>4 Seasons</td>\n",
       "    </tr>\n",
       "    <tr>\n",
       "      <th>1</th>\n",
       "      <td>2016</td>\n",
       "      <td>93 or 94</td>\n",
       "    </tr>\n",
       "    <tr>\n",
       "      <th>2</th>\n",
       "      <td>2011</td>\n",
       "      <td>78</td>\n",
       "    </tr>\n",
       "    <tr>\n",
       "      <th>3</th>\n",
       "      <td>2009</td>\n",
       "      <td>80 or 79</td>\n",
       "    </tr>\n",
       "    <tr>\n",
       "      <th>4</th>\n",
       "      <td>2008</td>\n",
       "      <td>123</td>\n",
       "    </tr>\n",
       "    <tr>\n",
       "      <th>...</th>\n",
       "      <td>...</td>\n",
       "      <td>...</td>\n",
       "    </tr>\n",
       "    <tr>\n",
       "      <th>25647</th>\n",
       "      <td>2018</td>\n",
       "      <td>NaN</td>\n",
       "    </tr>\n",
       "    <tr>\n",
       "      <th>25648</th>\n",
       "      <td>2017</td>\n",
       "      <td>NaN</td>\n",
       "    </tr>\n",
       "    <tr>\n",
       "      <th>25649</th>\n",
       "      <td>2018</td>\n",
       "      <td>NaN</td>\n",
       "    </tr>\n",
       "    <tr>\n",
       "      <th>25650</th>\n",
       "      <td>2017</td>\n",
       "      <td>NaN</td>\n",
       "    </tr>\n",
       "    <tr>\n",
       "      <th>25651</th>\n",
       "      <td>2016</td>\n",
       "      <td>NaN</td>\n",
       "    </tr>\n",
       "  </tbody>\n",
       "</table>\n",
       "<p>25652 rows × 2 columns</p>\n",
       "</div>"
      ],
      "text/plain": [
       "               Year    Runtime\n",
       "0      2020 or 2016  4 Seasons\n",
       "1              2016   93 or 94\n",
       "2              2011         78\n",
       "3              2009   80 or 79\n",
       "4              2008        123\n",
       "...             ...        ...\n",
       "25647          2018        NaN\n",
       "25648          2017        NaN\n",
       "25649          2018        NaN\n",
       "25650          2017        NaN\n",
       "25651          2016        NaN\n",
       "\n",
       "[25652 rows x 2 columns]"
      ]
     },
     "execution_count": 12,
     "metadata": {},
     "output_type": "execute_result"
    }
   ],
   "source": [
    "#making a new subset of the data with only year and runtime\n",
    "FDF = pd.read_csv('FDF.csv')\n",
    "data = [FDF[\"Year\"], FDF[\"Runtime\"]]\n",
    "headers = [\"Year\", \"Runtime\"]\n",
    "FDF_B = pd.concat(data, axis=1, keys=headers)\n",
    "FDF_B"
   ]
  },
  {
   "cell_type": "code",
   "execution_count": 14,
   "metadata": {},
   "outputs": [],
   "source": [
    "#getting rid of data we don't need for this question\n",
    "\n",
    "#changing the year column of the dataset so that MSN takes priorety\n",
    "def MSN_Years(row):\n",
    "    if ' or ' in str(row['Year']):\n",
    "        both = str(row['Year']).split(' or ')\n",
    "        return str(both[0])\n",
    "    else:\n",
    "        return row['Year']\n",
    "\n",
    "#performing the operation on the copy of FDF\n",
    "FDF_B['Year'] = FDF_B.apply(lambda row: MSN_Years(row), axis=1)"
   ]
  },
  {
   "cell_type": "code",
   "execution_count": 15,
   "metadata": {},
   "outputs": [
    {
     "data": {
      "text/html": [
       "<div>\n",
       "<style scoped>\n",
       "    .dataframe tbody tr th:only-of-type {\n",
       "        vertical-align: middle;\n",
       "    }\n",
       "\n",
       "    .dataframe tbody tr th {\n",
       "        vertical-align: top;\n",
       "    }\n",
       "\n",
       "    .dataframe thead th {\n",
       "        text-align: right;\n",
       "    }\n",
       "</style>\n",
       "<table border=\"1\" class=\"dataframe\">\n",
       "  <thead>\n",
       "    <tr style=\"text-align: right;\">\n",
       "      <th></th>\n",
       "      <th>Year</th>\n",
       "      <th>Runtime</th>\n",
       "    </tr>\n",
       "  </thead>\n",
       "  <tbody>\n",
       "    <tr>\n",
       "      <th>1</th>\n",
       "      <td>2016</td>\n",
       "      <td>93.0</td>\n",
       "    </tr>\n",
       "    <tr>\n",
       "      <th>2</th>\n",
       "      <td>2011</td>\n",
       "      <td>78.0</td>\n",
       "    </tr>\n",
       "    <tr>\n",
       "      <th>3</th>\n",
       "      <td>2009</td>\n",
       "      <td>80.0</td>\n",
       "    </tr>\n",
       "    <tr>\n",
       "      <th>4</th>\n",
       "      <td>2008</td>\n",
       "      <td>123.0</td>\n",
       "    </tr>\n",
       "    <tr>\n",
       "      <th>6</th>\n",
       "      <td>2019</td>\n",
       "      <td>95.0</td>\n",
       "    </tr>\n",
       "    <tr>\n",
       "      <th>...</th>\n",
       "      <td>...</td>\n",
       "      <td>...</td>\n",
       "    </tr>\n",
       "    <tr>\n",
       "      <th>21500</th>\n",
       "      <td>1974</td>\n",
       "      <td>89.0</td>\n",
       "    </tr>\n",
       "    <tr>\n",
       "      <th>21501</th>\n",
       "      <td>2000</td>\n",
       "      <td>72.0</td>\n",
       "    </tr>\n",
       "    <tr>\n",
       "      <th>21502</th>\n",
       "      <td>1980</td>\n",
       "      <td>120.0</td>\n",
       "    </tr>\n",
       "    <tr>\n",
       "      <th>21503</th>\n",
       "      <td>2001</td>\n",
       "      <td>90.0</td>\n",
       "    </tr>\n",
       "    <tr>\n",
       "      <th>21506</th>\n",
       "      <td>1950</td>\n",
       "      <td>32.0</td>\n",
       "    </tr>\n",
       "  </tbody>\n",
       "</table>\n",
       "<p>18646 rows × 2 columns</p>\n",
       "</div>"
      ],
      "text/plain": [
       "       Year  Runtime\n",
       "1      2016     93.0\n",
       "2      2011     78.0\n",
       "3      2009     80.0\n",
       "4      2008    123.0\n",
       "6      2019     95.0\n",
       "...     ...      ...\n",
       "21500  1974     89.0\n",
       "21501  2000     72.0\n",
       "21502  1980    120.0\n",
       "21503  2001     90.0\n",
       "21506  1950     32.0\n",
       "\n",
       "[18646 rows x 2 columns]"
      ]
     },
     "execution_count": 15,
     "metadata": {},
     "output_type": "execute_result"
    }
   ],
   "source": [
    "#changing the Runtime column of the dataset so that MSN takes priorety\n",
    "def MSN_Runtimes(row):\n",
    "    if ' or ' in str(row['Runtime']):\n",
    "        both = str(row['Runtime']).split(' or ')\n",
    "        return str(both[0])\n",
    "    else:\n",
    "        return row['Runtime']\n",
    "\n",
    "#performing the operation on the copy of FDF\n",
    "FDF_B['Runtime'] = FDF_B.apply(lambda row: MSN_Runtimes(row), axis=1)\n",
    "\n",
    "#removing seasons in the Runtime column\n",
    "def No_Seasons(row):\n",
    "    if 'Seasons' in str(row['Runtime']):\n",
    "        return np.nan\n",
    "    elif 'Season' in str(row['Runtime']):\n",
    "        return np.nan\n",
    "    else:\n",
    "        return row['Runtime']\n",
    "\n",
    "#performing the operation on the copy of FDF\n",
    "FDF_B['Runtime'] = FDF_B.apply(lambda row: No_Seasons(row), axis=1)\n",
    "\n",
    "#making sure all remaining values are numeric\n",
    "FDF_B[\"Runtime\"] = pd.to_numeric(FDF_B.Runtime)\n",
    "FDF_B[\"Year\"] = pd.to_numeric(FDF_B.Year)\n",
    "\n",
    "#dropping na\n",
    "FDF_B = FDF_B.dropna()\n",
    "\n",
    "FDF_B"
   ]
  },
  {
   "cell_type": "code",
   "execution_count": 16,
   "metadata": {},
   "outputs": [
    {
     "name": "stderr",
     "output_type": "stream",
     "text": [
      "/Users/jonghyeongkim/opt/anaconda3/lib/python3.7/site-packages/sklearn/linear_model/least_angle.py:30: DeprecationWarning: `np.float` is a deprecated alias for the builtin `float`. To silence this warning, use `float` by itself. Doing this will not modify any behavior and is safe. If you specifically wanted the numpy scalar type, use `np.float64` here.\n",
      "Deprecated in NumPy 1.20; for more details and guidance: https://numpy.org/devdocs/release/1.20.0-notes.html#deprecations\n",
      "  method='lar', copy_X=True, eps=np.finfo(np.float).eps,\n",
      "/Users/jonghyeongkim/opt/anaconda3/lib/python3.7/site-packages/sklearn/linear_model/least_angle.py:167: DeprecationWarning: `np.float` is a deprecated alias for the builtin `float`. To silence this warning, use `float` by itself. Doing this will not modify any behavior and is safe. If you specifically wanted the numpy scalar type, use `np.float64` here.\n",
      "Deprecated in NumPy 1.20; for more details and guidance: https://numpy.org/devdocs/release/1.20.0-notes.html#deprecations\n",
      "  method='lar', copy_X=True, eps=np.finfo(np.float).eps,\n",
      "/Users/jonghyeongkim/opt/anaconda3/lib/python3.7/site-packages/sklearn/linear_model/least_angle.py:284: DeprecationWarning: `np.float` is a deprecated alias for the builtin `float`. To silence this warning, use `float` by itself. Doing this will not modify any behavior and is safe. If you specifically wanted the numpy scalar type, use `np.float64` here.\n",
      "Deprecated in NumPy 1.20; for more details and guidance: https://numpy.org/devdocs/release/1.20.0-notes.html#deprecations\n",
      "  eps=np.finfo(np.float).eps, copy_Gram=True, verbose=0,\n",
      "/Users/jonghyeongkim/opt/anaconda3/lib/python3.7/site-packages/sklearn/linear_model/least_angle.py:862: DeprecationWarning: `np.float` is a deprecated alias for the builtin `float`. To silence this warning, use `float` by itself. Doing this will not modify any behavior and is safe. If you specifically wanted the numpy scalar type, use `np.float64` here.\n",
      "Deprecated in NumPy 1.20; for more details and guidance: https://numpy.org/devdocs/release/1.20.0-notes.html#deprecations\n",
      "  eps=np.finfo(np.float).eps, copy_X=True, fit_path=True,\n",
      "/Users/jonghyeongkim/opt/anaconda3/lib/python3.7/site-packages/sklearn/linear_model/least_angle.py:1101: DeprecationWarning: `np.float` is a deprecated alias for the builtin `float`. To silence this warning, use `float` by itself. Doing this will not modify any behavior and is safe. If you specifically wanted the numpy scalar type, use `np.float64` here.\n",
      "Deprecated in NumPy 1.20; for more details and guidance: https://numpy.org/devdocs/release/1.20.0-notes.html#deprecations\n",
      "  eps=np.finfo(np.float).eps, copy_X=True, fit_path=True,\n",
      "/Users/jonghyeongkim/opt/anaconda3/lib/python3.7/site-packages/sklearn/linear_model/least_angle.py:1127: DeprecationWarning: `np.float` is a deprecated alias for the builtin `float`. To silence this warning, use `float` by itself. Doing this will not modify any behavior and is safe. If you specifically wanted the numpy scalar type, use `np.float64` here.\n",
      "Deprecated in NumPy 1.20; for more details and guidance: https://numpy.org/devdocs/release/1.20.0-notes.html#deprecations\n",
      "  eps=np.finfo(np.float).eps, positive=False):\n",
      "/Users/jonghyeongkim/opt/anaconda3/lib/python3.7/site-packages/sklearn/linear_model/least_angle.py:1362: DeprecationWarning: `np.float` is a deprecated alias for the builtin `float`. To silence this warning, use `float` by itself. Doing this will not modify any behavior and is safe. If you specifically wanted the numpy scalar type, use `np.float64` here.\n",
      "Deprecated in NumPy 1.20; for more details and guidance: https://numpy.org/devdocs/release/1.20.0-notes.html#deprecations\n",
      "  max_n_alphas=1000, n_jobs=None, eps=np.finfo(np.float).eps,\n",
      "/Users/jonghyeongkim/opt/anaconda3/lib/python3.7/site-packages/sklearn/linear_model/least_angle.py:1602: DeprecationWarning: `np.float` is a deprecated alias for the builtin `float`. To silence this warning, use `float` by itself. Doing this will not modify any behavior and is safe. If you specifically wanted the numpy scalar type, use `np.float64` here.\n",
      "Deprecated in NumPy 1.20; for more details and guidance: https://numpy.org/devdocs/release/1.20.0-notes.html#deprecations\n",
      "  max_n_alphas=1000, n_jobs=None, eps=np.finfo(np.float).eps,\n",
      "/Users/jonghyeongkim/opt/anaconda3/lib/python3.7/site-packages/sklearn/linear_model/least_angle.py:1738: DeprecationWarning: `np.float` is a deprecated alias for the builtin `float`. To silence this warning, use `float` by itself. Doing this will not modify any behavior and is safe. If you specifically wanted the numpy scalar type, use `np.float64` here.\n",
      "Deprecated in NumPy 1.20; for more details and guidance: https://numpy.org/devdocs/release/1.20.0-notes.html#deprecations\n",
      "  eps=np.finfo(np.float).eps, copy_X=True, positive=False):\n"
     ]
    },
    {
     "data": {
      "text/plain": [
       "array([[0.08900831]])"
      ]
     },
     "execution_count": 16,
     "metadata": {},
     "output_type": "execute_result"
    }
   ],
   "source": [
    "#Running Linear regression to determine relationship between runtime and year\n",
    "from sklearn.model_selection import train_test_split\n",
    "from sklearn import linear_model\n",
    "\n",
    "x=FDF_B[\"Year\"].values.reshape(-1,1)\n",
    "y=FDF_B[\"Runtime\"].values.reshape(-1,1)\n",
    "\n",
    "xtrain,xtest,ytrain,ytest=train_test_split(x,y,test_size=.25)\n",
    "\n",
    "model=linear_model.LinearRegression()\n",
    "model.fit(xtrain,ytrain)\n",
    "ypred_test=model.predict(xtest)\n",
    "\n",
    "model.coef_"
   ]
  },
  {
   "cell_type": "code",
   "execution_count": 17,
   "metadata": {},
   "outputs": [
    {
     "data": {
      "image/png": "[encoded data removed]",
      "text/plain": [
       "<Figure size 432x288 with 1 Axes>"
      ]
     },
     "metadata": {
      "needs_background": "light"
     },
     "output_type": "display_data"
    }
   ],
   "source": [
    "#Making a scatterplot of results\n",
    "plt.scatter(xtest,ytest)\n",
    "plt.scatter(xtest,ypred_test,c='r',s=10)\n",
    "plt.xlabel(\"Year\")\n",
    "plt.ylabel(\"Runtime in Minutes\")\n",
    "plt.savefig(\"Scatterplot_of_Runtime_by_Year.png\")\n",
    "plt.show()"
   ]
  },
  {
   "cell_type": "code",
   "execution_count": null,
   "metadata": {},
   "outputs": [],
   "source": []
  }
 ],
 "metadata": {
  "kernelspec": {
   "display_name": "Python 3.7.4 ('base')",
   "language": "python",
   "name": "python3"
  },
  "language_info": {
   "codemirror_mode": {
    "name": "ipython",
    "version": 3
   },
   "file_extension": ".py",
   "mimetype": "text/x-python",
   "name": "python",
   "nbconvert_exporter": "python",
   "pygments_lexer": "ipython3",
   "version": "3.7.4"
  },
  "orig_nbformat": 4,
  "vscode": {
   "interpreter": {
    "hash": "e480523893e0b7319a977010edac63a61f61ebb19dac32f1e6ac9daa104125fd"
   }
  }
 },
 "nbformat": 4,
 "nbformat_minor": 2
}
